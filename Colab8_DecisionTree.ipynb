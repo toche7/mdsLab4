{
  "cells": [
    {
      "cell_type": "markdown",
      "metadata": {
        "colab_type": "text",
        "id": "view-in-github"
      },
      "source": [
        "<a href=\"https://colab.research.google.com/github/toche7/mdsLab4/blob/main/Colab8_DecisionTree.ipynb\" target=\"_parent\"><img src=\"https://colab.research.google.com/assets/colab-badge.svg\" alt=\"Open In Colab\"/></a>"
      ]
    },
    {
      "cell_type": "markdown",
      "metadata": {
        "collapsed": false,
        "id": "WGLHjJEIhq1W"
      },
      "source": [
        "# Colab8.  Decision Tree"
      ]
    },
    {
      "cell_type": "markdown",
      "metadata": {
        "collapsed": false,
        "id": "DGCE87l4hq1Y"
      },
      "source": [
        "version 001"
      ]
    },
    {
      "cell_type": "markdown",
      "metadata": {
        "collapsed": false,
        "id": "LvHXt5zthq1Y"
      },
      "source": [
        "Decision Tree เป็น Model ประเภท Classification ตามเนื้อหาใน  Lecture\n",
        "\n",
        "*** Decision Tree ใน sklearn ทำงานได้เฉพาะข้อมูลที่ตัวเลขเท่านั้น"
      ]
    },
    {
      "cell_type": "markdown",
      "metadata": {
        "collapsed": false,
        "id": "DHuVJiyuUlpi"
      },
      "source": [
        "## 1. Example of using SKlearn for model development\n"
      ]
    },
    {
      "cell_type": "markdown",
      "metadata": {
        "collapsed": false,
        "id": "UXHiCV76hq1Y"
      },
      "source": [
        "https://scikit-learn.org/stable/modules/generated/sklearn.tree.DecisionTreeClassifier.html"
      ]
    },
    {
      "cell_type": "markdown",
      "metadata": {
        "collapsed": false,
        "id": "9fVPbzauhq1Y",
        "nbgrader": {
          "grade": false,
          "grade_id": "470b9f",
          "locked": true,
          "remove": false,
          "schema_version": 3,
          "solution": false,
          "task": false
        }
      },
      "source": [
        "```\n",
        "from sklearn.tree import DecisionTreeClassifier\n",
        "clf = DecisionTreeClassifier(random_state=0)\n",
        "clf.fit(X,y)\n",
        "```\n",
        "\n"
      ]
    },
    {
      "cell_type": "markdown",
      "metadata": {
        "collapsed": false,
        "id": "ABaZqn96hq1Z"
      },
      "source": [
        "| Method | Description |\n",
        "| ------------|------------ |\n",
        "| fit(X, y ) | Build a decision tree classifier from the training set (X, y).|\n",
        "| predict(X) | Predict class or regression value for X. |\n",
        "| score(X, y) | Return the mean accuracy on the given test data and labels.|"
      ]
    },
    {
      "cell_type": "markdown",
      "metadata": {
        "collapsed": false,
        "id": "eShmmeiQhq1Z"
      },
      "source": [
        "## 1.1 Data Preparation\n",
        "เช่น เดียวกับ Model  อื่นที่ใช้ใน sklearn จะต้องเตรียมข้อมูลให้ตรงกับความต้องการคือ X ต้องข้อมูลประเภท 2 มิติ ขณะที่ y เป็นข้อมูลต้องเป็นคอลัมน์เดี่ยว หรือ มิติเดียวได้\n",
        "\n",
        "ให้นำเข้าข้อมูล apple.csv เข้ามา\n"
      ]
    },
    {
      "cell_type": "code",
      "execution_count": null,
      "metadata": {
        "id": "CRO6eOJIWrq8"
      },
      "outputs": [],
      "source": [
        "#!wget https://raw.githubusercontent.com/toche7/DataSets/main/apple.csv"
      ]
    },
    {
      "cell_type": "code",
      "execution_count": null,
      "metadata": {
        "id": "O3CFTNO5jdIJ"
      },
      "outputs": [],
      "source": [
        "import pandas as pd"
      ]
    },
    {
      "cell_type": "code",
      "execution_count": null,
      "metadata": {
        "id": "ot2dk5ByWq1A"
      },
      "outputs": [],
      "source": []
    },
    {
      "cell_type": "code",
      "execution_count": null,
      "metadata": {
        "colab": {
          "base_uri": "https://localhost:8080/",
          "height": 223
        },
        "id": "gJaBUJPkje-n",
        "outputId": "9cd74a38-229b-4e1c-f217-f9efcb785d7d"
      },
      "outputs": [],
      "source": [
        "df = pd.read_csv('https://raw.githubusercontent.com/toche7/DataSets/main/apple.csv')\n",
        "df.head()"
      ]
    },
    {
      "cell_type": "code",
      "execution_count": null,
      "metadata": {
        "id": "jf7O-JhLjgCX"
      },
      "outputs": [],
      "source": []
    },
    {
      "cell_type": "code",
      "execution_count": null,
      "metadata": {
        "id": "uuR_TjP3je6t"
      },
      "outputs": [],
      "source": [
        "X = df[['Weight','Size']]"
      ]
    },
    {
      "cell_type": "code",
      "execution_count": null,
      "metadata": {
        "id": "H-pUBeF6je3W"
      },
      "outputs": [],
      "source": [
        "y = df[['Class']]"
      ]
    },
    {
      "cell_type": "code",
      "execution_count": null,
      "metadata": {
        "id": "--Jp2HJ4jdDl"
      },
      "outputs": [],
      "source": []
    },
    {
      "cell_type": "markdown",
      "metadata": {
        "collapsed": false,
        "id": "MPRgiVm2hq1a"
      },
      "source": [
        "### 1.2 Create  Model Object and Train Model"
      ]
    },
    {
      "cell_type": "code",
      "execution_count": null,
      "metadata": {
        "id": "ii9RsuJbhq1b"
      },
      "outputs": [],
      "source": [
        "from sklearn.tree import DecisionTreeClassifier\n",
        "dt = DecisionTreeClassifier(random_state=0)"
      ]
    },
    {
      "cell_type": "code",
      "execution_count": null,
      "metadata": {
        "colab": {
          "base_uri": "https://localhost:8080/",
          "height": 93
        },
        "id": "ijJktEhBjsjv",
        "outputId": "aa0824f7-e0e7-489e-d6f9-9fa096101f21"
      },
      "outputs": [],
      "source": [
        "dt.fit(X,y)"
      ]
    },
    {
      "cell_type": "code",
      "execution_count": null,
      "metadata": {
        "colab": {
          "base_uri": "https://localhost:8080/"
        },
        "id": "vvgj1ZnJjsXW",
        "outputId": "9a599187-c1f9-4fbd-a88f-0b7c4a26389a"
      },
      "outputs": [],
      "source": [
        "dt.score(X,y)"
      ]
    },
    {
      "cell_type": "code",
      "execution_count": null,
      "metadata": {
        "id": "uE9CawnKjsNz"
      },
      "outputs": [],
      "source": []
    },
    {
      "cell_type": "markdown",
      "metadata": {
        "collapsed": false,
        "id": "DkOhpRRehq1b"
      },
      "source": [
        "### 1.3 Visualize Model"
      ]
    },
    {
      "cell_type": "markdown",
      "metadata": {
        "id": "7hRARlggjwYh"
      },
      "source": [
        "ทำการ uncomment code ด้านล่างด้วยการเลื่อกข้อมูลในเซลทั้งหมดแล้วกด\n",
        "\n",
        "* windows: \"control\" + \"/\"\n",
        "* mac: \"command\" + \"/\""
      ]
    },
    {
      "cell_type": "code",
      "execution_count": null,
      "metadata": {
        "colab": {
          "base_uri": "https://localhost:8080/",
          "height": 301
        },
        "id": "g2MNS_9shq1b",
        "outputId": "18c0c517-41d5-4b40-bfa7-96f651d99e49"
      },
      "outputs": [],
      "source": [
        "from sklearn import tree\n",
        "import graphviz\n",
        "\n",
        "dot_data = tree.export_graphviz(dt, out_file=None,\n",
        "                      feature_names=X.columns,\n",
        "                      class_names = df.Class.unique(),\n",
        "                      filled=True, rounded=True,\n",
        "                      special_characters=True)\n",
        "graph = graphviz.Source(dot_data)\n",
        "graph"
      ]
    },
    {
      "cell_type": "code",
      "execution_count": null,
      "metadata": {
        "id": "g1AtmEmjkwCI"
      },
      "outputs": [],
      "source": []
    },
    {
      "cell_type": "markdown",
      "metadata": {
        "collapsed": false,
        "id": "cVNianAmhq1b"
      },
      "source": [
        "### 1.4  Predict"
      ]
    },
    {
      "cell_type": "code",
      "execution_count": null,
      "metadata": {
        "colab": {
          "base_uri": "https://localhost:8080/"
        },
        "id": "6PYyCVehk8hJ",
        "outputId": "9ac708e6-80b1-4691-c70d-3c1c937bbc34"
      },
      "outputs": [],
      "source": [
        "dt.predict(X)"
      ]
    },
    {
      "cell_type": "code",
      "execution_count": null,
      "metadata": {
        "colab": {
          "base_uri": "https://localhost:8080/",
          "height": 1000
        },
        "id": "sNyLScbCk8de",
        "outputId": "bd85b2d5-f2de-49ec-dcbd-ed7ffd3d1810"
      },
      "outputs": [],
      "source": [
        "y"
      ]
    },
    {
      "cell_type": "code",
      "execution_count": null,
      "metadata": {
        "id": "ApvVcEEZk8Z4"
      },
      "outputs": [],
      "source": []
    },
    {
      "cell_type": "code",
      "execution_count": null,
      "metadata": {
        "id": "WNYAQqjNhq1c"
      },
      "outputs": [],
      "source": []
    },
    {
      "cell_type": "markdown",
      "metadata": {
        "collapsed": false,
        "id": "0JRtOS5bhq1c"
      },
      "source": [
        "### 1.5 Score"
      ]
    },
    {
      "cell_type": "markdown",
      "metadata": {
        "collapsed": false,
        "id": "d294iSLmhq1c"
      },
      "source": [
        "ค่า Score ใน DT เป็นค่า Accuracy"
      ]
    },
    {
      "cell_type": "code",
      "execution_count": null,
      "metadata": {
        "id": "pLMHYuXFhq1c"
      },
      "outputs": [],
      "source": []
    },
    {
      "cell_type": "code",
      "execution_count": null,
      "metadata": {
        "id": "DdplZUdChq1c"
      },
      "outputs": [],
      "source": []
    },
    {
      "cell_type": "code",
      "execution_count": null,
      "metadata": {
        "id": "nVDimUD8hq1c"
      },
      "outputs": [],
      "source": []
    },
    {
      "cell_type": "markdown",
      "metadata": {
        "collapsed": false,
        "id": "wDOwVImuhq1c"
      },
      "source": [
        "## 2. Iris Decision Tree Model"
      ]
    },
    {
      "cell_type": "code",
      "execution_count": null,
      "metadata": {
        "id": "BEgaN9FUhq1d"
      },
      "outputs": [],
      "source": [
        "import numpy as np\n",
        "import pandas as pd\n",
        "import matplotlib.pyplot as plt"
      ]
    },
    {
      "cell_type": "markdown",
      "metadata": {
        "collapsed": false,
        "id": "CRPc1557GgKU"
      },
      "source": [
        "## ตัวอย่างดอก Iris\n",
        "\n",
        "ที่มา https://scikit-learn.org/stable/modules/tree.html\n",
        "\n",
        "Dataset : https://en.wikipedia.org/wiki/Iris_flower_data_set"
      ]
    },
    {
      "cell_type": "code",
      "execution_count": null,
      "metadata": {
        "id": "U0yvkZDpL1ok"
      },
      "outputs": [],
      "source": [
        "from sklearn.datasets import load_iris\n",
        "iris = load_iris()"
      ]
    },
    {
      "cell_type": "code",
      "execution_count": null,
      "metadata": {
        "id": "wx-weO0TliAW"
      },
      "outputs": [],
      "source": [
        "X = pd.DataFrame(iris.data)"
      ]
    },
    {
      "cell_type": "code",
      "execution_count": null,
      "metadata": {
        "id": "QeaVJ5Molh8p"
      },
      "outputs": [],
      "source": [
        "y = pd.DataFrame(iris.target)"
      ]
    },
    {
      "cell_type": "code",
      "execution_count": null,
      "metadata": {
        "id": "UZh8rUDOlh5S"
      },
      "outputs": [],
      "source": [
        "dt2 = DecisionTreeClassifier(random_state=0)"
      ]
    },
    {
      "cell_type": "code",
      "execution_count": null,
      "metadata": {
        "colab": {
          "base_uri": "https://localhost:8080/",
          "height": 93
        },
        "id": "1hEVLgGklh2G",
        "outputId": "2e0be179-d4d5-46b9-be9c-dc0f8b7bca82"
      },
      "outputs": [],
      "source": [
        "dt2.fit(X,y)"
      ]
    },
    {
      "cell_type": "code",
      "execution_count": null,
      "metadata": {
        "colab": {
          "base_uri": "https://localhost:8080/"
        },
        "id": "ZgdwgLNxlhyf",
        "outputId": "6643b3c4-20fd-4fce-f7b7-2e66d46ac6d1"
      },
      "outputs": [],
      "source": [
        "dt2.score(X,y)"
      ]
    },
    {
      "cell_type": "code",
      "execution_count": null,
      "metadata": {
        "colab": {
          "base_uri": "https://localhost:8080/"
        },
        "id": "5-fwWOk8lhu0",
        "outputId": "25a4eb43-2dda-471d-ec28-b7535f10943e"
      },
      "outputs": [],
      "source": [
        "dt2.predict(X.iloc[100:110])"
      ]
    },
    {
      "cell_type": "markdown",
      "metadata": {
        "collapsed": false,
        "id": "VaqNV14Qhq1d"
      },
      "source": [
        "### 2.1 Data Prepare"
      ]
    },
    {
      "cell_type": "markdown",
      "metadata": {
        "collapsed": false,
        "id": "4xrucFdDQjYh"
      },
      "source": [
        "ลองดูข้อมูลใน dataset"
      ]
    },
    {
      "cell_type": "code",
      "execution_count": null,
      "metadata": {
        "id": "3mFf6I2QoZvl"
      },
      "outputs": [],
      "source": [
        "X['Target'] = y"
      ]
    },
    {
      "cell_type": "code",
      "execution_count": null,
      "metadata": {
        "colab": {
          "base_uri": "https://localhost:8080/",
          "height": 436
        },
        "id": "9ttPkn7bguT8",
        "outputId": "6800c949-5a30-4a39-8e47-d8370061592d"
      },
      "outputs": [],
      "source": [
        "X"
      ]
    },
    {
      "cell_type": "code",
      "execution_count": null,
      "metadata": {
        "id": "SFZSyCjWoaqd"
      },
      "outputs": [],
      "source": [
        "X.drop(3,axis = 1, inplace = True)"
      ]
    },
    {
      "cell_type": "code",
      "execution_count": null,
      "metadata": {
        "id": "sKLZci3FoZrr"
      },
      "outputs": [],
      "source": []
    },
    {
      "cell_type": "code",
      "execution_count": null,
      "metadata": {
        "colab": {
          "base_uri": "https://localhost:8080/",
          "height": 436
        },
        "id": "zp8axv8zoZoB",
        "outputId": "4e347a6e-a659-4c5e-e877-8792986fb9d1"
      },
      "outputs": [],
      "source": [
        "X"
      ]
    },
    {
      "cell_type": "code",
      "execution_count": null,
      "metadata": {
        "id": "ZYXeZ-9goZka"
      },
      "outputs": [],
      "source": []
    },
    {
      "cell_type": "code",
      "execution_count": null,
      "metadata": {
        "colab": {
          "base_uri": "https://localhost:8080/",
          "height": 1000
        },
        "id": "G6xm8wogQcZh",
        "outputId": "82c23bf8-d2fb-409b-99de-4fcc9e1ceba3"
      },
      "outputs": [],
      "source": [
        "df"
      ]
    },
    {
      "cell_type": "markdown",
      "metadata": {
        "collapsed": false,
        "id": "SyP2dxQaziPq"
      },
      "source": [
        "พล็อตกราฟดูระหว่างแกน 'sepal length (cm)' กับ 'sepal width (cm)'"
      ]
    },
    {
      "cell_type": "code",
      "execution_count": null,
      "metadata": {
        "id": "JnDZtvcXhq1f"
      },
      "outputs": [],
      "source": [
        "#X.plot.scatter(1,2, c = 'Target', colormap='plasma')"
      ]
    },
    {
      "cell_type": "code",
      "execution_count": null,
      "metadata": {
        "id": "HFGrmUNMhD_E"
      },
      "outputs": [],
      "source": [
        "import seaborn as sns"
      ]
    },
    {
      "cell_type": "code",
      "execution_count": null,
      "metadata": {
        "id": "r-gNclWZhq1g"
      },
      "outputs": [],
      "source": [
        "#a=sns.pairplot(X,hue='Target',palette=\"muted\",height=5,vars=[0,1,2,])"
      ]
    },
    {
      "cell_type": "markdown",
      "metadata": {
        "collapsed": false,
        "id": "iCXshPCXL7sQ"
      },
      "source": [
        "สร้างต้นไม้ตัดสินใจง่ายๆ จากชุดช้อมูล Dataset"
      ]
    },
    {
      "cell_type": "markdown",
      "metadata": {
        "collapsed": false,
        "id": "FBrSwdYzhq1g"
      },
      "source": []
    },
    {
      "cell_type": "markdown",
      "metadata": {
        "collapsed": false,
        "id": "NeRTo_U6hq1g"
      },
      "source": [
        "### 2.2 Create Model Object and Train Model"
      ]
    },
    {
      "cell_type": "code",
      "execution_count": null,
      "metadata": {
        "id": "f7Vg0xLamPAM"
      },
      "outputs": [],
      "source": []
    },
    {
      "cell_type": "code",
      "execution_count": null,
      "metadata": {
        "id": "v2mNMphimO5O"
      },
      "outputs": [],
      "source": []
    },
    {
      "cell_type": "code",
      "execution_count": null,
      "metadata": {
        "id": "h7TQN9pXmO1T"
      },
      "outputs": [],
      "source": []
    },
    {
      "cell_type": "code",
      "execution_count": null,
      "metadata": {
        "id": "pmChM5oOmOyK"
      },
      "outputs": [],
      "source": []
    },
    {
      "cell_type": "code",
      "execution_count": null,
      "metadata": {
        "id": "IMteR66xmOuw"
      },
      "outputs": [],
      "source": []
    },
    {
      "cell_type": "code",
      "execution_count": null,
      "metadata": {
        "id": "a3vovpgRmOrY"
      },
      "outputs": [],
      "source": []
    },
    {
      "cell_type": "markdown",
      "metadata": {
        "collapsed": false,
        "id": "Qtkm3syQhq1h"
      },
      "source": [
        "### 2.3 Visualize Model"
      ]
    },
    {
      "cell_type": "markdown",
      "metadata": {
        "collapsed": false,
        "id": "a_taHxADM0FH"
      },
      "source": [
        "แสดงโครงสร้างต้นไม้ในรูปแบบ Text"
      ]
    },
    {
      "cell_type": "code",
      "execution_count": null,
      "metadata": {
        "colab": {
          "base_uri": "https://localhost:8080/"
        },
        "id": "PKdlDsw_M4PD",
        "outputId": "3161f789-441c-41b6-e5c0-a91ea5029e32",
        "scrolled": true
      },
      "outputs": [],
      "source": [
        "from sklearn.tree import export_text\n",
        "r = export_text(dt2, feature_names=iris.feature_names)\n",
        "print(r)"
      ]
    },
    {
      "cell_type": "code",
      "execution_count": null,
      "metadata": {
        "id": "o1ebeZhBnEkS"
      },
      "outputs": [],
      "source": []
    },
    {
      "cell_type": "code",
      "execution_count": null,
      "metadata": {
        "id": "WYNWt2KWnEf5"
      },
      "outputs": [],
      "source": []
    },
    {
      "cell_type": "code",
      "execution_count": null,
      "metadata": {
        "id": "QacZBGR8nEb_"
      },
      "outputs": [],
      "source": []
    },
    {
      "cell_type": "markdown",
      "metadata": {
        "collapsed": false,
        "id": "9q6IwwidM7O6"
      },
      "source": [
        "แสดงโครงสร้างต้นไม้ในรูปแบบกราฟฟิก"
      ]
    },
    {
      "cell_type": "code",
      "execution_count": null,
      "metadata": {
        "colab": {
          "base_uri": "https://localhost:8080/",
          "height": 936
        },
        "id": "FiwGI7zuNCSE",
        "outputId": "ccdb9f00-1ff0-45e9-e86d-03bcf605457d"
      },
      "outputs": [],
      "source": [
        "# from sklearn import tree\n",
        "# import graphviz\n",
        "\n",
        "# dot_data = tree.export_graphviz(dt2, out_file=None,\n",
        "#                       feature_names=iris.feature_names,\n",
        "#                       class_names=iris.target_names,\n",
        "#                       filled=True, rounded=True,\n",
        "#                       special_characters=True)\n",
        "# graph = graphviz.Source(dot_data)\n",
        "# graph"
      ]
    },
    {
      "cell_type": "code",
      "execution_count": null,
      "metadata": {
        "id": "Kyz0Rd72nFSf"
      },
      "outputs": [],
      "source": []
    },
    {
      "cell_type": "code",
      "execution_count": null,
      "metadata": {
        "id": "SNdiMdbmnFOO"
      },
      "outputs": [],
      "source": []
    },
    {
      "cell_type": "code",
      "execution_count": null,
      "metadata": {
        "id": "bqNBYsqUnFKm"
      },
      "outputs": [],
      "source": []
    },
    {
      "cell_type": "markdown",
      "metadata": {
        "collapsed": false,
        "id": "GY-j9oBaK-yp"
      },
      "source": [
        "ลองทำนายผล"
      ]
    },
    {
      "cell_type": "markdown",
      "metadata": {
        "collapsed": false,
        "id": "cWmxoneZhq1i"
      },
      "source": [
        "### 2.4 Apply Model (Predict)"
      ]
    },
    {
      "cell_type": "code",
      "execution_count": null,
      "metadata": {
        "id": "80sSCcC0PNJO"
      },
      "outputs": [],
      "source": []
    },
    {
      "cell_type": "markdown",
      "metadata": {
        "collapsed": false,
        "id": "eWRTysLkhq1i"
      },
      "source": [
        "### 2.5 Model Performance (Score)"
      ]
    },
    {
      "cell_type": "code",
      "execution_count": null,
      "metadata": {
        "id": "33EzD992hq1i"
      },
      "outputs": [],
      "source": []
    },
    {
      "cell_type": "code",
      "execution_count": null,
      "metadata": {
        "id": "TTTyajXnhq1i"
      },
      "outputs": [],
      "source": []
    },
    {
      "cell_type": "code",
      "execution_count": null,
      "metadata": {
        "id": "tzb78tUphq1i"
      },
      "outputs": [],
      "source": []
    },
    {
      "cell_type": "code",
      "execution_count": null,
      "metadata": {
        "id": "-sIZQv1rhq1i"
      },
      "outputs": [],
      "source": []
    },
    {
      "cell_type": "code",
      "execution_count": null,
      "metadata": {
        "id": "FerlVTLIhq1i"
      },
      "outputs": [],
      "source": []
    },
    {
      "cell_type": "markdown",
      "metadata": {},
      "source": [
        "## Ex 1\n",
        "use the admit data for create a model from decision tree"
      ]
    },
    {
      "cell_type": "code",
      "execution_count": null,
      "metadata": {},
      "outputs": [],
      "source": [
        "import pandas as pd\n",
        "data = pd.read_csv(\"https://raw.githubusercontent.com/toche7/DataSets/main/admit.csv\")\n",
        "y = data.Label\n",
        "X = data[['SubjectA','SubjectB']]"
      ]
    },
    {
      "cell_type": "code",
      "execution_count": null,
      "metadata": {},
      "outputs": [],
      "source": []
    },
    {
      "cell_type": "code",
      "execution_count": null,
      "metadata": {},
      "outputs": [],
      "source": []
    },
    {
      "cell_type": "code",
      "execution_count": null,
      "metadata": {},
      "outputs": [],
      "source": []
    },
    {
      "cell_type": "code",
      "execution_count": null,
      "metadata": {},
      "outputs": [],
      "source": [
        "# from sklearn import tree\n",
        "# import graphviz\n",
        "\n",
        "# dot_data = tree.export_graphviz(dt3, out_file=None,\n",
        "#                       feature_names= ['SubjectA','SubjectB'],\n",
        "#                       class_names= ['No','Yes'],\n",
        "#                       filled=True, rounded=True,\n",
        "#                       special_characters=True)\n",
        "# graph = graphviz.Source(dot_data)\n",
        "# graph"
      ]
    },
    {
      "cell_type": "code",
      "execution_count": null,
      "metadata": {},
      "outputs": [],
      "source": []
    }
  ],
  "metadata": {
    "colab": {
      "include_colab_link": true,
      "provenance": []
    },
    "kernelspec": {
      "argv": [
        "/usr/bin/python3",
        "-m",
        "ipykernel",
        "--HistoryManager.enabled=False",
        "--matplotlib=inline",
        "-c",
        "%config InlineBackend.figure_formats = set(['retina'])\nimport matplotlib; matplotlib.rcParams['figure.figsize'] = (12, 7)",
        "-f",
        "{connection_file}"
      ],
      "display_name": "Python 3 (system-wide)",
      "env": {},
      "language": "python",
      "metadata": {
        "cocalc": {
          "description": "Python 3 programming language",
          "priority": 100,
          "url": "https://www.python.org/"
        }
      },
      "name": "python3",
      "resource_dir": "/ext/jupyter/kernels/python3"
    },
    "language_info": {
      "codemirror_mode": {
        "name": "ipython",
        "version": 3
      },
      "file_extension": ".py",
      "mimetype": "text/x-python",
      "name": "python",
      "nbconvert_exporter": "python",
      "pygments_lexer": "ipython3",
      "version": "3.10.13"
    },
    "nbgrader": {
      "__altered": false,
      "__hash": 326839963,
      "_root": {
        "entries": [
          [
            "size",
            5
          ],
          [
            "_root",
            {
              "entries": [
                [
                  "__altered",
                  false
                ],
                [
                  "__hash",
                  633336276
                ],
                [
                  "_root",
                  {
                    "entries": [
                      [
                        "size",
                        1
                      ],
                      [
                        "_root",
                        {
                          "entries": [
                            [
                              "cocalc_minimal_stubs",
                              false
                            ]
                          ],
                          "ownerID": {}
                        }
                      ],
                      [
                        "__ownerID",
                        null
                      ],
                      [
                        "__hash",
                        -335098374
                      ],
                      [
                        "__altered",
                        false
                      ],
                      [
                        "cocalc_minimal_stubs",
                        false
                      ]
                    ],
                    "ownerID": {}
                  }
                ],
                [
                  "cocalc_minimal_stubs",
                  false
                ],
                [
                  "size",
                  6
                ]
              ],
              "ownerID": {}
            }
          ],
          [
            "__hash",
            782104853
          ],
          [
            "__altered",
            false
          ],
          [
            "cocalc_minimal_stubs",
            false
          ]
        ],
        "ownerID": {}
      },
      "cocalc_minimal_stubs": false,
      "size": 5
    }
  },
  "nbformat": 4,
  "nbformat_minor": 0
}
